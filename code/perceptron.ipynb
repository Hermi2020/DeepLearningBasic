{
 "cells": [
  {
   "cell_type": "markdown",
   "metadata": {},
   "source": [
    "## Classification"
   ]
  },
  {
   "cell_type": "code",
   "execution_count": 3,
   "metadata": {},
   "outputs": [],
   "source": [
    "import numpy as np\n",
    "import pandas as pd\n",
    "import matplotlib.pyplot as plt\n",
    "import sklearn.datasets as ds\n",
    "from sklearn.model_selection import train_test_split\n",
    "from sklearn.linear_model import LinearRegression\n",
    "from IPython.display import display\n",
    "from sklearn.preprocessing import MinMaxScaler"
   ]
  },
  {
   "cell_type": "markdown",
   "metadata": {},
   "source": [
    "## Activation function"
   ]
  },
  {
   "cell_type": "code",
   "execution_count": 4,
   "metadata": {},
   "outputs": [
    {
     "data": {
      "image/png": "[encoded data removed]",
      "text/plain": [
       "<Figure size 432x288 with 1 Axes>"
      ]
     },
     "metadata": {
      "needs_background": "light"
     },
     "output_type": "display_data"
    },
    {
     "data": {
      "image/png": "[encoded data removed]",
      "text/plain": [
       "<Figure size 432x288 with 1 Axes>"
      ]
     },
     "metadata": {
      "needs_background": "light"
     },
     "output_type": "display_data"
    }
   ],
   "source": [
    "#step functrion\n",
    "def step(x):\n",
    "    return np.array(x > 0, dtype=np.int)\n",
    "\n",
    "x = np.arange(-5.0, 5.0, 0.1) # -5.0부터 5.0까지 0.1 간격 생성\n",
    "y = step(x)\n",
    "plt.title('Step Function')\n",
    "plt.plot(x,y)\n",
    "plt.show()\n",
    "\n",
    "#sigmoid function\n",
    "def sigmoid(x):\n",
    "    return 1/(1+np.exp(-x))\n",
    "x = np.arange(-5.0, 5.0, 0.1)\n",
    "y = sigmoid(x)\n",
    "\n",
    "plt.plot(x, y)\n",
    "plt.plot([0,0],[1.0,0.0], ':') # 가운데 점선 추가\n",
    "plt.title('Sigmoid Function')\n",
    "plt.show()\n"
   ]
  },
  {
   "cell_type": "code",
   "execution_count": 5,
   "metadata": {},
   "outputs": [
    {
     "data": {
      "image/png": "[encoded data removed]",
      "text/plain": [
       "<Figure size 432x288 with 1 Axes>"
      ]
     },
     "metadata": {
      "needs_background": "light"
     },
     "output_type": "display_data"
    }
   ],
   "source": [
    "#ReLU function\n",
    "def relu(x):\n",
    "    return np.maximum(0, x)\n",
    "\n",
    "x = np.arange(-5.0, 5.0, 0.1)\n",
    "y = relu(x)\n",
    "\n",
    "plt.plot(x, y)\n",
    "plt.plot([0,0],[5.0,0.0], ':')\n",
    "plt.title('Relu Function')\n",
    "plt.show()"
   ]
  },
  {
   "cell_type": "markdown",
   "metadata": {},
   "source": [
    "## single-layer perceptron \n",
    "\n",
    "AND, OR 연산처리 예"
   ]
  },
  {
   "cell_type": "code",
   "execution_count": 7,
   "metadata": {},
   "outputs": [],
   "source": [
    "#단층퍼셉트론으로 AND, OR 연산을 위한 함수 구현\n",
    "# step함수 사용\n",
    "def step(s):\n",
    "    if s <= 0:       #step function (0을 기준값으로 작으면 0 크면 1로 출력)\n",
    "        return 0\n",
    "    else:\n",
    "        return 1\n",
    "\n",
    "def AND_b(x1,x2):\n",
    "    w1,w2,b = 1,1,-1.5\n",
    "    s = x1*w1 + x2*w2 + b  #transfer function, weighted sum\n",
    "    y = step(s)             #activation function, step function call\n",
    "    return y\n",
    "    \n",
    "def AND(x):\n",
    "    w = np.array([1,1])\n",
    "    b = -1.5\n",
    "    s = np.sum(w*x) + b     #transfer function, weighted sum\n",
    "    y = step(s)             #activation function, step function call\n",
    "    return y\n",
    "\n",
    "def OR(x):\n",
    "    w = np.array([1,1])\n",
    "    b = -0.5\n",
    "    s = np.sum(w*x) + b     #transfer function, weighted sum\n",
    "    y = step(s)             #activation function, step function call\n",
    "    return y"
   ]
  },
  {
   "cell_type": "code",
   "execution_count": 8,
   "metadata": {},
   "outputs": [
    {
     "data": {
      "text/plain": [
       "[[0, 0], [0, 1], [1, 0], [1, 1]]"
      ]
     },
     "metadata": {},
     "output_type": "display_data"
    },
    {
     "name": "stdout",
     "output_type": "stream",
     "text": [
      "AND_b\n",
      "([0, 0]) -> 0\n",
      "([0, 1]) -> 0\n",
      "([1, 0]) -> 0\n",
      "([1, 1]) -> 1\n",
      "AND\n",
      "([0, 0]) -> 0\n",
      "([0, 1]) -> 0\n",
      "([1, 0]) -> 0\n",
      "([1, 1]) -> 1\n",
      "OR\n",
      "([0, 0]) -> 0\n",
      "([0, 1]) -> 1\n",
      "([1, 0]) -> 1\n",
      "([1, 1]) -> 1\n"
     ]
    }
   ],
   "source": [
    "#단층퍼셉트론으로 AND, OR, NAND 연산처리 \n",
    "\n",
    "#입력 벡터\n",
    "inputs = [[0, 0], [0, 1], [1, 0], [1, 1]]\n",
    "display(inputs)\n",
    "\n",
    "#입력벡터의 AND 연산 처리\n",
    "print(\"AND_b\")\n",
    "for x in inputs:\n",
    "     y = AND_b(x[0], x[1])\n",
    "     print('({x}) -> {y}'.format(x=x, y=y))\n",
    "\n",
    "#입력벡터의 AND 연산 처리\n",
    "print(\"AND\")\n",
    "for x in inputs:\n",
    "     y = AND(x)\n",
    "     print('({x}) -> {y}'.format(x=x, y=y))\n",
    "\n",
    "#입력벡터의 OR 연산 처리\n",
    "print(\"OR\")\n",
    "for x in inputs:\n",
    "     y = OR(x)\n",
    "     print('({x}) -> {y}'.format(x=x, y=y))"
   ]
  },
  {
   "cell_type": "markdown",
   "metadata": {},
   "source": [
    "## single-layer perceptron \n",
    " NAND 연산처리 예"
   ]
  },
  {
   "cell_type": "code",
   "execution_count": 9,
   "metadata": {},
   "outputs": [
    {
     "data": {
      "text/plain": [
       "[[0, 0], [0, 1], [1, 0], [1, 1]]"
      ]
     },
     "metadata": {},
     "output_type": "display_data"
    },
    {
     "name": "stdout",
     "output_type": "stream",
     "text": [
      "NAND\n",
      "([0, 0]) -> 1\n",
      "([0, 1]) -> 1\n",
      "([1, 0]) -> 1\n",
      "([1, 1]) -> 0\n"
     ]
    }
   ],
   "source": [
    "def NAND(x):\n",
    "    w = np.array([-1,-1])\n",
    "    b = 1.5\n",
    "    s = np.sum(w*x) + b     #transfer function, weighted sum\n",
    "    y = step(s)             #activation function, step function call\n",
    "    return y\n",
    "\n",
    "#입력 벡터\n",
    "inputs = [[0, 0], [0, 1], [1, 0], [1, 1]]\n",
    "display(inputs)\n",
    "\n",
    "print(\"NAND\")\n",
    "for x in inputs:\n",
    "     y = NAND(x)\n",
    "     print('({x}) -> {y}'.format(x=x, y=y))\n"
   ]
  },
  {
   "cell_type": "code",
   "execution_count": 52,
   "metadata": {},
   "outputs": [
    {
     "name": "stdout",
     "output_type": "stream",
     "text": [
      "AND\n",
      "([0, 0]) -> 0\n",
      "([0, 1]) -> 0\n",
      "([1, 0]) -> 0\n",
      "([1, 1]) -> 1\n",
      "OR\n",
      "([0, 0]) -> 0\n",
      "([0, 1]) -> 1\n",
      "([1, 0]) -> 1\n",
      "([1, 1]) -> 1\n",
      "NAND\n",
      "([0, 0]) -> 1\n",
      "([0, 1]) -> 1\n",
      "([1, 0]) -> 1\n",
      "([1, 1]) -> 0\n"
     ]
    }
   ],
   "source": [
    "#단층퍼셉트론으로 AND, OR, NAND 연산처리 (하나의 논리연산함수로 처리)\n",
    "def OP(x,w,b):\n",
    "#    tmp = np.sum(w*x) + b     #transfer function, weighted sum\n",
    "    tmp = np.dot(w,x) + b     #transfer function, weighted sum\n",
    "    if tmp <= 0:              #activation function, step function (0을 기준값으로 작으면 0 크면 1로 출력)\n",
    "        return 0\n",
    "    else:\n",
    "        return 1\n",
    "\n",
    "inputs = [[0, 0], [0, 1], [1, 0], [1, 1]]\n",
    "weights = [[1,1], [1,1], [-1,-1]]\n",
    "bias = [-1.5, -0.5, 1.5]\n",
    "ops = [\"AND\", \"OR\", \"NAND\"]           \n",
    "\n",
    "for i in range(3):\n",
    "    print(ops[i])\n",
    "    w = np.array(weights[i])\n",
    "    b = bias[i]\n",
    "    for x in inputs:\n",
    "        y = OP(x, w, b)\n",
    "        print('({x}) -> {y}'.format(x=x, y=y))\n"
   ]
  },
  {
   "cell_type": "code",
   "execution_count": 10,
   "metadata": {},
   "outputs": [
    {
     "name": "stdout",
     "output_type": "stream",
     "text": [
      "XOR\n",
      "([0, 0]) -> 0\n",
      "([0, 1]) -> 1\n",
      "([1, 0]) -> 1\n",
      "([1, 1]) -> 0\n"
     ]
    }
   ],
   "source": [
    "#XOR 문제 해결을 위한 다층 퍼셉트론\n",
    "#NAND, OR, AND 연산을 조합하여 XOR 연산처리\n",
    "print(\"XOR\")\n",
    "for x in inputs:\n",
    "     s1 = NAND(x)\n",
    "     s2 = OR(x) \n",
    "     s = np.array([s1,s2])\n",
    "     y = AND(s)\n",
    "     print('({x}) -> {y}'.format(x=x, y=y))\n",
    "    "
   ]
  }
 ],
 "metadata": {
  "kernelspec": {
   "display_name": "Python 3",
   "language": "python",
   "name": "python3"
  },
  "language_info": {
   "codemirror_mode": {
    "name": "ipython",
    "version": 3
   },
   "file_extension": ".py",
   "mimetype": "text/x-python",
   "name": "python",
   "nbconvert_exporter": "python",
   "pygments_lexer": "ipython3",
   "version": "3.7.1"
  }
 },
 "nbformat": 4,
 "nbformat_minor": 2
}
