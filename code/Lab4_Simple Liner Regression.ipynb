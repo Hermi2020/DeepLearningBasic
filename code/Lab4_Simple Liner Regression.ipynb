{
 "cells": [
  {
   "cell_type": "markdown",
   "metadata": {
    "colab_type": "text",
    "id": "T-dtOIu5FUV3",
    "slideshow": {
     "slide_type": "slide"
    }
   },
   "source": [
    "### Simple Liner Regression\n",
    "\n",
    "https://github.com/hunkim/DeepLearningZeroToAll\n"
   ]
  },
  {
   "cell_type": "code",
   "execution_count": 30,
   "metadata": {
    "colab": {},
    "colab_type": "code",
    "id": "dk3ggjvmFUV5",
    "slideshow": {
     "slide_type": "slide"
    }
   },
   "outputs": [],
   "source": [
    "import tensorflow as tf\n",
    "import numpy as np"
   ]
  },
  {
   "cell_type": "markdown",
   "metadata": {},
   "source": [
    "## Data"
   ]
  },
  {
   "cell_type": "code",
   "execution_count": 2,
   "metadata": {
    "colab": {},
    "colab_type": "code",
    "id": "pvennmBIFUV_",
    "slideshow": {
     "slide_type": "slide"
    }
   },
   "outputs": [],
   "source": [
    "x = np.array([10, 9, 6, 3, 2, 1],  dtype=float)\n",
    "y = np.array([90, 80, 70, 50, 30, 20],  dtype=float)"
   ]
  },
  {
   "cell_type": "code",
   "execution_count": 3,
   "metadata": {
    "colab": {
     "base_uri": "https://localhost:8080/",
     "height": 369
    },
    "colab_type": "code",
    "executionInfo": {
     "elapsed": 2167,
     "status": "ok",
     "timestamp": 1549783673077,
     "user": {
      "displayName": "Sean-June Lee",
      "photoUrl": "https://lh3.googleusercontent.com/-j96Pvw9LbEw/AAAAAAAAAAI/AAAAAAACQxw/aY8i4PoItwc/s64/photo.jpg",
      "userId": "12576390002043678893"
     },
     "user_tz": -540
    },
    "id": "0gJ136qSGiYm",
    "outputId": "5eb3b45f-55df-4d8d-ded7-b3baf3f264b1",
    "scrolled": false
   },
   "outputs": [
    {
     "data": {
      "text/plain": [
       "(0, 100)"
      ]
     },
     "execution_count": 3,
     "metadata": {},
     "output_type": "execute_result"
    },
    {
     "data": {
      "image/png": "[encoded data removed]",
      "text/plain": [
       "<Figure size 432x288 with 1 Axes>"
      ]
     },
     "metadata": {
      "needs_background": "light"
     },
     "output_type": "display_data"
    }
   ],
   "source": [
    "import matplotlib.pyplot as plt\n",
    "plt.plot(x, y, 'o')\n",
    "plt.ylim(0, 100)"
   ]
  },
  {
   "cell_type": "markdown",
   "metadata": {
    "colab_type": "text",
    "collapsed": true,
    "id": "RFeXSskkFUV-",
    "slideshow": {
     "slide_type": "slide"
    }
   },
   "source": [
    "# Hypothesis \n",
    "\n",
    "데이터로 가장 잘 표현할 수 있는 직선 방정식  \n",
    "\n",
    "$ H(x) = Wx + b $\n"
   ]
  },
  {
   "cell_type": "code",
   "execution_count": 4,
   "metadata": {
    "colab": {
     "base_uri": "https://localhost:8080/",
     "height": 90
    },
    "colab_type": "code",
    "executionInfo": {
     "elapsed": 2135,
     "status": "ok",
     "timestamp": 1549783673080,
     "user": {
      "displayName": "Sean-June Lee",
      "photoUrl": "https://lh3.googleusercontent.com/-j96Pvw9LbEw/AAAAAAAAAAI/AAAAAAACQxw/aY8i4PoItwc/s64/photo.jpg",
      "userId": "12576390002043678893"
     },
     "user_tz": -540
    },
    "id": "vGg-WsdlAlNr",
    "outputId": "c5eda8e8-9a4f-4713-a5c2-7c73998c6154"
   },
   "outputs": [],
   "source": [
    "#hypothesis \n",
    "\n",
    "W, b = 2, 0.5\n",
    "hypothesis1 = W * x + b\n",
    "W, b = 6, 20\n",
    "hypothesis2 = W * x + b\n",
    "W, b = 4, 50\n",
    "hypothesis3 = W * x + b"
   ]
  },
  {
   "cell_type": "code",
   "execution_count": 5,
   "metadata": {},
   "outputs": [
    {
     "data": {
      "text/plain": [
       "[<matplotlib.lines.Line2D at 0xfed2400>]"
      ]
     },
     "execution_count": 5,
     "metadata": {},
     "output_type": "execute_result"
    },
    {
     "data": {
      "image/png": "[encoded data removed]",
      "text/plain": [
       "<Figure size 432x288 with 1 Axes>"
      ]
     },
     "metadata": {
      "needs_background": "light"
     },
     "output_type": "display_data"
    }
   ],
   "source": [
    "plt.plot(x, y, 'o')\n",
    "plt.plot(x, hypothesis1, 'b--')\n",
    "plt.plot(x, hypothesis2, 'r--')\n",
    "plt.plot(x, hypothesis3, 'y--')"
   ]
  },
  {
   "cell_type": "markdown",
   "metadata": {},
   "source": [
    "# Hypothesis and Cost\n",
    "\n",
    "## Hypothesis\n",
    "데이터로 가장 잘 표현할 수 있는 직선 방정식\n",
    "\n",
    "$$ H(x) = Wx + b $$ \n",
    "\n",
    "\n",
    "## cost(비용)\n",
    "가설과 실제y와의 오차(error)\n",
    "\n",
    "## cost function \n",
    "오차를 측정하는 함수 mean squared error (MSE)\n",
    "\n",
    "$$ cost(W, b)=\\frac { 1 }{ m } \\sum _{i=1}^{m}{ { (H{ x }^{ i }-y^{ i } })^{ 2 } }  $$\n"
   ]
  },
  {
   "cell_type": "markdown",
   "metadata": {},
   "source": [
    "\n",
    "# Simplifed hypothesis\n",
    "\n",
    "$$ H(x) = Wx $$ \n",
    "\n",
    "$$ cost(W)=\\frac { 1 }{ m } \\sum _{i=1}^{m}{ { (W{ x }^{ i }-y^{ i } })^{ 2 } }  $$\n",
    "\n",
    "\n",
    "\n",
    "# Cost function\n",
    "\n",
    "\n",
    "\n",
    "$$ cost(W)=\\frac { 1 }{ m } \\sum _{i=1}^{m}{ { (W{ x }^{ i }-y^{ i } })^{ 2 } }  $$\n",
    "\n",
    "W = -1, cost(W) = 18.67\n",
    "$$ cost(W)=\\frac { 1 }{ 3 } ( (-1 * 1 - 1)^2 + (-1 * 2 - 2)^2 + (-1 * 3 - 3)^2) $$\n",
    "\n",
    "W = 0, cost(W) = 4.67\n",
    "$$ cost(W)=\\frac { 1 }{ 3 } ( (0 * 1 - 1)^2 + (0 * 2 - 2)^2 + (0 * 3 - 3)^2) $$\n",
    "\n",
    "W = 1, cost(W) = 0\n",
    "$$ cost(W)=\\frac { 1 }{ 3 } ( (1 * 1 - 1)^2 + (1 * 2 - 2)^2 + (1 * 3 - 3)^2) $$\n",
    "\n",
    "W = 2, cost(W) = 4.67\n",
    "$$ cost(W)=\\frac { 1 }{ 3 } ( (2 * 1 - 1)^2 + (2 * 2 - 2)^2 + (2 * 3 - 3)^2) $$\n"
   ]
  },
  {
   "cell_type": "markdown",
   "metadata": {},
   "source": [
    "## Cost function in pure Python"
   ]
  },
  {
   "cell_type": "code",
   "execution_count": 6,
   "metadata": {},
   "outputs": [
    {
     "name": "stdout",
     "output_type": "stream",
     "text": [
      "-3.000 |   74.66667\n",
      "-2.429 |   54.85714\n",
      "-1.857 |   38.09524\n",
      "-1.286 |   24.38095\n",
      "-0.714 |   13.71429\n",
      "-0.143 |    6.09524\n",
      " 0.429 |    1.52381\n",
      " 1.000 |    0.00000\n",
      " 1.571 |    1.52381\n",
      " 2.143 |    6.09524\n",
      " 2.714 |   13.71429\n",
      " 3.286 |   24.38095\n",
      " 3.857 |   38.09524\n",
      " 4.429 |   54.85714\n",
      " 5.000 |   74.66667\n",
      "costvalues =  [74.66666666666667, 54.85714285714287, 38.095238095238095, 24.380952380952383, 13.714285714285717, 6.095238095238099, 1.5238095238095248, 0.0, 1.5238095238095226, 6.0952380952380905, 13.714285714285703, 24.380952380952383, 38.09523809523808, 54.85714285714284, 74.66666666666667]\n"
     ]
    }
   ],
   "source": [
    "import numpy as np\n",
    "\n",
    "X = np.array([1, 2, 3])\n",
    "Y = np.array([1, 2, 3])\n",
    "\n",
    "W_values = np.linspace(-3, 5, num=15)\n",
    "\n",
    "def cost_func(W, X, Y):\n",
    "    c = 0\n",
    "    for i in range(len(X)):\n",
    "        c += (W * X[i] - Y[i]) ** 2\n",
    "    return c / len(X)\n",
    "\n",
    "\n",
    "cost_values = []\n",
    "\n",
    "for feed_W in W_values:\n",
    "    curr_cost = cost_func(feed_W, X, Y)\n",
    "    cost_values.append(curr_cost)\n",
    "    print(\"{:6.3f} | {:10.5f}\".format(feed_W, curr_cost))\n",
    "\n",
    "print(\"costvalues = \", cost_values)"
   ]
  },
  {
   "cell_type": "markdown",
   "metadata": {},
   "source": [
    "## Tensorflow \n",
    "\n",
    "텐서플로우는 머신러닝과 딥 뉴럴 네트워크 연구를 목적으로 구글의 인공지능 연구 조직인 구글 브레인 팀의 연구자와 엔지니어들에 의해 개발\n",
    "\n",
    "https://www.tensorflow.org/api_docs/python/tf#tensorflow_2\n",
    "\n",
    "https://tensorflowkorea.gitbooks.io/tensorflow-kr/content/"
   ]
  },
  {
   "cell_type": "code",
   "execution_count": 8,
   "metadata": {
    "colab": {
     "base_uri": "https://localhost:8080/",
     "height": 34
    },
    "colab_type": "code",
    "executionInfo": {
     "elapsed": 2160,
     "status": "ok",
     "timestamp": 1549783673078,
     "user": {
      "displayName": "Sean-June Lee",
      "photoUrl": "https://lh3.googleusercontent.com/-j96Pvw9LbEw/AAAAAAAAAAI/AAAAAAACQxw/aY8i4PoItwc/s64/photo.jpg",
      "userId": "12576390002043678893"
     },
     "user_tz": -540
    },
    "id": "4F5aR9EEDaAs",
    "outputId": "8bd52e07-f337-4b3d-c837-1a7bdc1a2760",
    "scrolled": true
   },
   "outputs": [
    {
     "name": "stdout",
     "output_type": "stream",
     "text": [
      "tensorflow version:  2.0.0\n",
      "x= [1, 2, 3, 4, 5]\n",
      "W= <tf.Variable 'Variable:0' shape=() dtype=float32, numpy=2.0>\n",
      "W.numpy()= 2.0\n",
      "mean(x)= tf.Tensor(3, shape=(), dtype=int32)\n",
      "mean(x).numpy()= 3\n",
      "square(y)= tf.Tensor([ 1  4  9 16 25], shape=(5,), dtype=int32)\n",
      "hypothesis= tf.Tensor([ 2.5  4.5  6.5  8.5 10.5], shape=(5,), dtype=float32)\n",
      "hypothesis.numpy())= [ 2.5  4.5  6.5  8.5 10.5]\n"
     ]
    }
   ],
   "source": [
    "# 텐서플로우 최신 버젼 설치\n",
    "#!pip install --upgrade tensorflow\n",
    "#import\n",
    "import tensorflow as tf\n",
    "#버젼확인\n",
    "print(\"tensorflow version: \", tf.__version__)\n",
    "\n",
    "## tensorflow 사용 예\n",
    "x = [1, 2, 3, 4, 5]\n",
    "y = [1, 2, 3, 4, 5]\n",
    "\n",
    "W = tf.Variable(2.0)  #변수 설정, tf.Variable \n",
    "b = tf.Variable(0.5)\n",
    "\n",
    "print(\"x=\", x)\n",
    "\n",
    "print(\"W=\", W)\n",
    "print(\"W.numpy()=\", W.numpy())\n",
    "\n",
    "meanX = tf.reduce_mean(x)  #x 평균, 값 형태\n",
    "print(\"mean(x)=\", meanX)\n",
    "print(\"mean(x).numpy()=\", meanX.numpy()) \n",
    "squareY = tf.square(y)   #y 제곱, 배열형태, tf.Tensor\n",
    "print(\"square(y)=\", squareY)\n",
    "\n",
    "hypothesis = W * x + b\n",
    "print(\"hypothesis=\", hypothesis) #tf.Tensor\n",
    "print(\"hypothesis.numpy())=\", hypothesis.numpy())"
   ]
  },
  {
   "cell_type": "markdown",
   "metadata": {},
   "source": [
    "## Cost function in TensorFlow"
   ]
  },
  {
   "cell_type": "code",
   "execution_count": 9,
   "metadata": {},
   "outputs": [
    {
     "name": "stdout",
     "output_type": "stream",
     "text": [
      "-3.000 |   74.66667\n",
      "-2.429 |   54.85714\n",
      "-1.857 |   38.09524\n",
      "-1.286 |   24.38095\n",
      "-0.714 |   13.71429\n",
      "-0.143 |    6.09524\n",
      " 0.429 |    1.52381\n",
      " 1.000 |    0.00000\n",
      " 1.571 |    1.52381\n",
      " 2.143 |    6.09524\n",
      " 2.714 |   13.71429\n",
      " 3.286 |   24.38095\n",
      " 3.857 |   38.09524\n",
      " 4.429 |   54.85714\n",
      " 5.000 |   74.66667\n"
     ]
    }
   ],
   "source": [
    "X = np.array([1, 2, 3])\n",
    "Y = np.array([1, 2, 3])\n",
    "\n",
    "def cost_func(W, X, Y):\n",
    "  hypothesis = X * W\n",
    "  return tf.reduce_mean(tf.square(hypothesis - Y))\n",
    "\n",
    "W_values = np.linspace(-3, 5, num=15)\n",
    "cost_values = []\n",
    "\n",
    "for feed_W in W_values:\n",
    "    curr_cost = cost_func(feed_W, X, Y)\n",
    "    cost_values.append(curr_cost)\n",
    "    print(\"{:6.3f} | {:10.5f}\".format(feed_W, curr_cost))"
   ]
  },
  {
   "cell_type": "markdown",
   "metadata": {},
   "source": [
    "## Cost function"
   ]
  },
  {
   "cell_type": "code",
   "execution_count": 10,
   "metadata": {
    "scrolled": true
   },
   "outputs": [
    {
     "data": {
      "image/png": "[encoded data removed]",
      "text/plain": [
       "<Figure size 432x288 with 1 Axes>"
      ]
     },
     "metadata": {
      "needs_background": "light"
     },
     "output_type": "display_data"
    }
   ],
   "source": [
    "import matplotlib.pyplot as plt\n",
    "\n",
    "plt.plot(W_values, cost_values, \"b\")\n",
    "plt.ylabel('Cost(W)')\n",
    "plt.xlabel('W')\n",
    "plt.show()"
   ]
  },
  {
   "cell_type": "code",
   "execution_count": 11,
   "metadata": {},
   "outputs": [
    {
     "name": "stdout",
     "output_type": "stream",
     "text": [
      " 0.000 | 3360.00000\n",
      " 1.571 | 2506.98367\n",
      " 3.143 | 1783.36327\n",
      " 4.714 | 1189.13878\n",
      " 6.286 |  724.31020\n",
      " 7.857 |  388.87755\n",
      " 9.429 |  182.84082\n",
      "11.000 |  106.20000\n",
      "12.571 |  158.95510\n",
      "14.143 |  341.10612\n",
      "15.714 |  652.65306\n",
      "17.286 | 1093.59592\n",
      "18.857 | 1663.93469\n",
      "20.429 | 2363.66939\n",
      "22.000 | 3192.80000\n"
     ]
    },
    {
     "data": {
      "image/png": "[encoded data removed]",
      "text/plain": [
       "<Figure size 432x288 with 1 Axes>"
      ]
     },
     "metadata": {
      "needs_background": "light"
     },
     "output_type": "display_data"
    }
   ],
   "source": [
    "X = np.array([1, 2, 3, 6, 9],  dtype=float)\n",
    "Y = np.array([20, 30, 50, 70, 90],  dtype=float)\n",
    "\n",
    "def cost_func(W, X, Y):\n",
    "  hypothesis = X * W\n",
    "  return tf.reduce_mean(tf.square(hypothesis - Y))\n",
    "\n",
    "W_values = np.linspace(0, 22, num=15)\n",
    "cost_values = []\n",
    "\n",
    "for feed_W in W_values:\n",
    "    curr_cost = cost_func(feed_W, X, Y)\n",
    "    cost_values.append(curr_cost)\n",
    "    print(\"{:6.3f} | {:10.5f}\".format(feed_W, curr_cost))\n",
    "    \n",
    "\n",
    "plt.plot(W_values, cost_values, \"b\")\n",
    "plt.ylabel('Cost(W)')\n",
    "plt.xlabel('W')\n",
    "plt.show()"
   ]
  },
  {
   "cell_type": "markdown",
   "metadata": {
    "colab_type": "text",
    "id": "1JhoCK8yLk_X"
   },
   "source": [
    "# Gradient descent algorithm\n",
    "\n",
    "$$ cost(W)=\\frac { 1 }{ 2m } \\sum _{i=1}^{m}{ { (W{ x }^{ i }-y^{ i } })^{ 2 } }  $$\n",
    "\n",
    "$$ W:=W - \\alpha\\frac{ \\partial } {\\partial W } cost(W) $$\n",
    "\n",
    "\n",
    "$$ W:=W-\\alpha \\frac { 1 }{ m } \\sum _{ i=1 }^{ m }{ { (W{ x }^{ i }-y^{ i } })x^{ i } }  $$"
   ]
  },
  {
   "cell_type": "markdown",
   "metadata": {},
   "source": [
    "## Gradient descent algorithm in pure Python"
   ]
  },
  {
   "cell_type": "code",
   "execution_count": 31,
   "metadata": {
    "scrolled": true
   },
   "outputs": [
    {
     "name": "stdout",
     "output_type": "stream",
     "text": [
      "step  |     W      | cost\n",
      "    0 |  -165.7283 | 386039.145652\n",
      "   10 |   -50.9888 | 37534.572921\n",
      "   20 |   -15.2110 | 3649.485241\n",
      "   30 |    -4.0549 | 354.839325\n",
      "   40 |    -0.5762 |  34.501015\n",
      "   50 |     0.5085 |   3.354533\n",
      "   60 |     0.8467 |   0.326161\n",
      "   70 |     0.9522 |   0.031713\n",
      "   80 |     0.9851 |   0.003083\n",
      "   90 |     0.9954 |   0.000300\n",
      "  100 |     0.9986 |   0.000029\n",
      "  110 |     0.9995 |   0.000003\n",
      "  120 |     0.9999 |   0.000000\n",
      "  130 |     1.0000 |   0.000000\n",
      "  140 |     1.0000 |   0.000000\n",
      "  150 |     1.0000 |   0.000000\n",
      "  160 |     1.0000 |   0.000000\n",
      "  170 |     1.0000 |   0.000000\n",
      "  180 |     1.0000 |   0.000000\n",
      "  190 |     1.0000 |   0.000000\n",
      "  200 |     1.0000 |   0.000000\n",
      "  210 |     1.0000 |   0.000000\n",
      "  220 |     1.0000 |   0.000000\n",
      "  230 |     1.0000 |   0.000000\n",
      "  240 |     1.0000 |   0.000000\n",
      "  250 |     1.0000 |   0.000000\n",
      "  260 |     1.0000 |   0.000000\n",
      "  270 |     1.0000 |   0.000000\n",
      "  280 |     1.0000 |   0.000000\n",
      "  290 |     1.0000 |   0.000000\n"
     ]
    },
    {
     "data": {
      "text/plain": [
       "[<matplotlib.lines.Line2D at 0x4f1b5f8>]"
      ]
     },
     "execution_count": 31,
     "metadata": {},
     "output_type": "execute_result"
    },
    {
     "data": {
      "image/png": "[encoded data removed]",
      "text/plain": [
       "<Figure size 432x288 with 1 Axes>"
      ]
     },
     "metadata": {
      "needs_background": "light"
     },
     "output_type": "display_data"
    }
   ],
   "source": [
    "import numpy as np\n",
    "\n",
    "X = np.array([1, 2, 3, 4, 5])\n",
    "Y = np.array([1, 2, 3, 4, 5])\n",
    "\n",
    "# W 초기화\n",
    "# 평균 -100, 표준편차 100인 임의값으로 초기화\n",
    "# 평균 0, 표준편차 100인 임의값으로 초기화\n",
    "#np.random.normal(mean, std, size) \n",
    "W = np.random.normal(-100, 100, 1) \n",
    "\n",
    "print('step  |     W      | cost')\n",
    "\n",
    "#300번 반복,  hypothesis, cost, gradient를 계산하여 W 갱신\n",
    "for step in range(300):\n",
    "    hypothesis = W * X\n",
    "    cost =  np.mean((hypothesis - Y) ** 2)\n",
    "\n",
    "    alpha = 0.01\n",
    "    gradient = np.mean((W * X  - Y) * X)\n",
    "    descent = W - (alpha * gradient)\n",
    "    W = descent\n",
    "    \n",
    "    if step % 10 == 0:\n",
    "        print('{:5} | {:10.4f} | {:10.6f}'.format(step, W[0], cost))\n",
    "\n",
    "# hypothesis graph \n",
    "        plt.plot(X, hypothesis, 'r-')\n",
    "        plt.plot(X, Y, 'o')\n",
    "        plt.xlabel('X')\n",
    "        plt.ylabel('Y')\n",
    "        plt.title(\"Simple Data Plot\")\n",
    "        plt.legend([\"model\", \"train data\"], loc=\"best\")\n",
    "        plt.ylim(0, 8)\n",
    "\n",
    "\n",
    "# last model graph \n",
    "plt.plot(X, hypothesis, 'b-')\n"
   ]
  },
  {
   "cell_type": "markdown",
   "metadata": {},
   "source": [
    "## Gradient descent algorithm in TensorFlow"
   ]
  },
  {
   "cell_type": "code",
   "execution_count": 33,
   "metadata": {},
   "outputs": [
    {
     "name": "stdout",
     "output_type": "stream",
     "text": [
      "step  |     W      | cost\n",
      "    0 |   -15.6321 | 3841.539551\n",
      "   10 |    -4.1862 | 373.512787\n",
      "   20 |    -0.6171 |  36.316631\n",
      "   30 |     0.4957 |   3.531065\n",
      "   40 |     0.8428 |   0.343325\n",
      "   50 |     0.9510 |   0.033382\n",
      "   60 |     0.9847 |   0.003246\n",
      "   70 |     0.9952 |   0.000316\n",
      "   80 |     0.9985 |   0.000031\n",
      "   90 |     0.9995 |   0.000003\n",
      "  100 |     0.9999 |   0.000000\n",
      "  110 |     1.0000 |   0.000000\n",
      "  120 |     1.0000 |   0.000000\n",
      "  130 |     1.0000 |   0.000000\n",
      "  140 |     1.0000 |   0.000000\n",
      "  150 |     1.0000 |   0.000000\n",
      "  160 |     1.0000 |   0.000000\n",
      "  170 |     1.0000 |   0.000000\n",
      "  180 |     1.0000 |   0.000000\n",
      "  190 |     1.0000 |   0.000000\n",
      "  200 |     1.0000 |   0.000000\n",
      "  210 |     1.0000 |   0.000000\n",
      "  220 |     1.0000 |   0.000000\n",
      "  230 |     1.0000 |   0.000000\n",
      "  240 |     1.0000 |   0.000000\n",
      "  250 |     1.0000 |   0.000000\n",
      "  260 |     1.0000 |   0.000000\n",
      "  270 |     1.0000 |   0.000000\n",
      "  280 |     1.0000 |   0.000000\n",
      "  290 |     1.0000 |   0.000000\n"
     ]
    },
    {
     "data": {
      "text/plain": [
       "[<matplotlib.lines.Line2D at 0x11a76e80>]"
      ]
     },
     "execution_count": 33,
     "metadata": {},
     "output_type": "execute_result"
    },
    {
     "data": {
      "image/png": "[encoded data removed]",
      "text/plain": [
       "<Figure size 432x288 with 1 Axes>"
      ]
     },
     "metadata": {
      "needs_background": "light"
     },
     "output_type": "display_data"
    }
   ],
   "source": [
    "# Gradient descent algorithm in TensorFlow\n",
    "X = [1, 2, 3, 4, 5]\n",
    "Y = [1, 2, 3, 4, 5]\n",
    "\n",
    "# W 초기화\n",
    "# 평균 0, 표준편차 100인 임의값으로 초기화\n",
    "W = tf.Variable(tf.random.normal([1], 0., 100.)) \n",
    "\n",
    "print('step  |     W      | cost')\n",
    "\n",
    "#300번 반복,  hypothesis, cost, gradient decent 계산하여 W갱신\n",
    "for step in range(300):\n",
    "    hypothesis = W * X\n",
    "    cost = tf.reduce_mean(tf.square(hypothesis - Y))\n",
    "\n",
    "    alpha = 0.01\n",
    "    gradient = tf.reduce_mean(tf.multiply(tf.multiply(W, X) - Y, X))\n",
    "    descent = W - tf.multiply(alpha, gradient)\n",
    "    W.assign(descent)  #W =  descent\n",
    "    \n",
    "    if step % 10 == 0:\n",
    "        print('{:5} | {:10.4f} | {:10.6f}'.format(\n",
    "            step,  W.numpy()[0], cost.numpy()))\n",
    "        \n",
    "        # hypothesis graph \n",
    "        plt.plot(X, hypothesis.numpy(), 'r-')\n",
    "        plt.plot(X, Y, 'o')\n",
    "        plt.ylim(0, 8)\n",
    "        plt.xlabel('X')\n",
    "        plt.ylabel('Y')\n",
    "        plt.title(\"Simple Data Plot\")\n",
    "        plt.legend([\"model\", \"train data\"], loc=\"best\")\n",
    "# last model graph \n",
    "plt.plot(X, hypothesis, 'b-')\n"
   ]
  },
  {
   "cell_type": "markdown",
   "metadata": {
    "colab_type": "text",
    "id": "6upnkrWZFUWF",
    "slideshow": {
     "slide_type": "slide"
    }
   },
   "source": [
    "## predict"
   ]
  },
  {
   "cell_type": "code",
   "execution_count": 34,
   "metadata": {
    "colab": {
     "base_uri": "https://localhost:8080/",
     "height": 52
    },
    "colab_type": "code",
    "executionInfo": {
     "elapsed": 3428,
     "status": "ok",
     "timestamp": 1549783674450,
     "user": {
      "displayName": "Sean-June Lee",
      "photoUrl": "https://lh3.googleusercontent.com/-j96Pvw9LbEw/AAAAAAAAAAI/AAAAAAACQxw/aY8i4PoItwc/s64/photo.jpg",
      "userId": "12576390002043678893"
     },
     "user_tz": -540
    },
    "id": "WnqG2Dn7LUNy",
    "outputId": "577f4c5d-296d-497d-b444-651063be1d27"
   },
   "outputs": [
    {
     "name": "stdout",
     "output_type": "stream",
     "text": [
      "new X = [-3, 0, 7]\n",
      "Y = tf.Tensor([-2.9999993  0.         6.999998 ], shape=(3,), dtype=float32)\n"
     ]
    }
   ],
   "source": [
    "nX = [-3, 0, 7]\n",
    "Y = W * nX\n",
    "print(\"new X =\", nX)\n",
    "print(\"Y =\", Y)"
   ]
  },
  {
   "attachments": {
    "image.png": {
     "image/png": "[encoded data removed]"
    }
   },
   "cell_type": "markdown",
   "metadata": {},
   "source": [
    "# simple linear regression in TensorFlow\n",
    "\n",
    "### Hypothesis \n",
    "$$ H(x) = Wx + b $$\n",
    "\n",
    "\n",
    "### Cost\n",
    "$$ cost(W)=\\frac { 1 }{ m } \\sum _{i=1}^{m}{ { (W{ x }^{ i }-y^{ i } })^{ 2 } }  $$\n",
    "\n",
    "### Gradient descent algorithm\n",
    "\n",
    "![image.png](attachment:image.png)\n",
    "\n"
   ]
  },
  {
   "cell_type": "code",
   "execution_count": 35,
   "metadata": {
    "scrolled": false
   },
   "outputs": [
    {
     "name": "stdout",
     "output_type": "stream",
     "text": [
      "    0|    2.4520|    0.3760| 45.660004\n",
      "   10|    1.1036|    0.0034|  0.206336\n",
      "   20|    1.0128|   -0.0209|  0.001026\n",
      "   30|    1.0065|   -0.0218|  0.000093\n",
      "   40|    1.0059|   -0.0212|  0.000083\n",
      "   50|    1.0057|   -0.0205|  0.000077\n",
      "   60|    1.0055|   -0.0198|  0.000072\n",
      "   70|    1.0053|   -0.0192|  0.000067\n",
      "   80|    1.0051|   -0.0185|  0.000063\n",
      "   90|    1.0050|   -0.0179|  0.000059\n",
      "tf.Tensor(5.0066934, shape=(), dtype=float32)\n",
      "tf.Tensor(2.4946523, shape=(), dtype=float32)\n"
     ]
    }
   ],
   "source": [
    "#simple linear regression in TensorFlow\n",
    "\n",
    "import tensorflow as tf\n",
    "import numpy as np\n",
    "\n",
    "# Data\n",
    "x = [1, 2, 3, 4, 5]\n",
    "y = [1, 2, 3, 4, 5]\n",
    "\n",
    "learning_rate = 0.01\n",
    "\n",
    "# W, b initialize\n",
    "W=tf.Variable(2.9)\n",
    "b=tf.Variable(0.5)\n",
    "\n",
    "# W, b update\n",
    "for i in range(100):\n",
    "    # Gradient descent\n",
    "    # tf.GradientTape() 안에서 변수의 정보를 tape에 저장\n",
    "    with tf.GradientTape() as tape:\n",
    "        hypothesis = W * x + b\n",
    "        cost = tf.reduce_mean(tf.square(hypothesis - y))\n",
    "    #gradient 계산    \n",
    "    W_grad, b_grad = tape.gradient(cost, [W, b])  #cost에서의 W, b의 기울기(미분값) 반환\n",
    "    #W, b 갱신\n",
    "    W.assign_sub(learning_rate * W_grad)  #W = W - (learning_rate * W_grad)\n",
    "    b.assign_sub(learning_rate * b_grad)\n",
    "    if i % 10 == 0:\n",
    "      print(\"{:5}|{:10.4f}|{:10.4f}|{:10.6f}\".format(i, W.numpy(), b.numpy(), cost))\n",
    "\n",
    "# predict\n",
    "print(W * 5 + b)\n",
    "print(W * 2.5 + b)"
   ]
  },
  {
   "cell_type": "markdown",
   "metadata": {},
   "source": [
    "### 점수 데이터를 이용한 linear regression"
   ]
  },
  {
   "cell_type": "code",
   "execution_count": 17,
   "metadata": {
    "scrolled": true
   },
   "outputs": [
    {
     "name": "stdout",
     "output_type": "stream",
     "text": [
      "step  |     W      | cost\n",
      "    0 |   179.8584 | 1369371.047157\n",
      "   10 |    19.2307 | 3250.607000\n",
      "   20 |    11.5325 | 112.872262\n",
      "   30 |    11.1636 | 105.665446\n",
      "   40 |    11.1459 | 105.648893\n",
      "   50 |    11.1451 | 105.648855\n",
      "   60 |    11.1450 | 105.648855\n",
      "   70 |    11.1450 | 105.648855\n",
      "   80 |    11.1450 | 105.648855\n",
      "   90 |    11.1450 | 105.648855\n",
      "  100 |    11.1450 | 105.648855\n",
      "  110 |    11.1450 | 105.648855\n",
      "  120 |    11.1450 | 105.648855\n",
      "  130 |    11.1450 | 105.648855\n",
      "  140 |    11.1450 | 105.648855\n",
      "  150 |    11.1450 | 105.648855\n",
      "  160 |    11.1450 | 105.648855\n",
      "  170 |    11.1450 | 105.648855\n",
      "  180 |    11.1450 | 105.648855\n",
      "  190 |    11.1450 | 105.648855\n",
      "  200 |    11.1450 | 105.648855\n",
      "  210 |    11.1450 | 105.648855\n",
      "  220 |    11.1450 | 105.648855\n",
      "  230 |    11.1450 | 105.648855\n",
      "  240 |    11.1450 | 105.648855\n",
      "  250 |    11.1450 | 105.648855\n",
      "  260 |    11.1450 | 105.648855\n",
      "  270 |    11.1450 | 105.648855\n",
      "  280 |    11.1450 | 105.648855\n",
      "  290 |    11.1450 | 105.648855\n",
      "new X = [0, 4, 8]\n",
      "Y = [ 0.         44.58015267 89.16030534]\n"
     ]
    },
    {
     "data": {
      "image/png": "[encoded data removed]",
      "text/plain": [
       "<Figure size 432x288 with 1 Axes>"
      ]
     },
     "metadata": {
      "needs_background": "light"
     },
     "output_type": "display_data"
    }
   ],
   "source": [
    "# python\n",
    "\n",
    "import numpy as np\n",
    "\n",
    "\n",
    "X = np.array([1, 2, 3, 6, 9],  dtype=float)\n",
    "Y = np.array([20, 30, 50, 70, 90],  dtype=float)\n",
    "\n",
    "# W 초기화\n",
    "# 평균 0, 표준편차 100인 임의값으로 초기화\n",
    "#np.random.normal(mean, std, size) \n",
    "W = np.random.normal(0, 100, 1) \n",
    "\n",
    "print('step  |     W      | cost')\n",
    "\n",
    "#300번 반복,  hypothesis, cost, gradient를 계산하여 W 갱신\n",
    "for step in range(300):\n",
    "    hypothesis = W * X\n",
    "    cost =  np.mean((hypothesis - Y) ** 2)\n",
    "\n",
    "    alpha = 0.01\n",
    "    gradient = np.mean((W * X  - Y) * X)\n",
    "    descent = W - (alpha * gradient)\n",
    "    W = descent\n",
    "    \n",
    "    if step % 10 == 0:\n",
    "        print('{:5} | {:10.4f} | {:10.6f}'.format(step, W[0], cost))\n",
    "        # hypothesis graph \n",
    "        plt.plot(X, hypothesis, 'r-')\n",
    "        plt.plot(X, Y, 'o')\n",
    "        plt.xlabel('X')\n",
    "        plt.ylabel('Y')\n",
    "        plt.xlim(0,10)\n",
    "        plt.ylim(0,100)\n",
    "        plt.title(\"Score Data Plot\")\n",
    "        plt.legend([\"model\", \"train data\"], loc=\"best\")\n",
    "#last model\n",
    "plt.plot(X, hypothesis, 'b-') \n",
    "\n",
    "# 새로운 값 예측\n",
    "nX = [0, 4, 8]\n",
    "Y = W * nX\n",
    "print(\"new X =\", nX)\n",
    "print(\"Y =\", Y)"
   ]
  },
  {
   "cell_type": "code",
   "execution_count": 39,
   "metadata": {},
   "outputs": [
    {
     "name": "stdout",
     "output_type": "stream",
     "text": [
      "0 7.1784 1.2864 1847.1721\n",
      "10 10.728111 2.7518954 80.29458\n",
      "20 10.597828 3.56516 73.44289\n",
      "30 10.474063 4.3278384 67.413376\n",
      "40 10.357957 5.043313 62.107136\n",
      "50 10.249037 5.714506 57.437366\n",
      "60 10.146858 6.344157 53.32778\n",
      "70 10.051004 6.934838 49.71117\n",
      "80 9.961083 7.48896 46.52833\n",
      "90 9.876727 8.008786 43.72731\n",
      "100 9.797591 8.496439 41.262295\n",
      "110 9.723354 8.95391 39.09298\n",
      "120 9.653711 9.383067 37.183857\n",
      "130 9.58838 9.785664 35.503746\n",
      "140 9.527091 10.163341 34.025166\n",
      "150 9.469595 10.517644 32.723976\n",
      "160 9.415659 10.8500185 31.578827\n",
      "170 9.36506 11.161821 30.57108\n",
      "180 9.317593 11.454326 29.684189\n",
      "190 9.273064 11.728725 28.903696\n",
      "200 9.231291 11.986144 28.216824\n",
      "210 9.192103 12.22763 27.612347\n",
      "220 9.155341 12.454168 27.080383\n",
      "230 9.120853 12.666686 26.612219\n",
      "240 9.088502 12.866051 26.200222\n",
      "250 9.058151 13.053077 25.837635\n",
      "260 9.029679 13.228527 25.51855\n",
      "270 9.00297 13.393119 25.237753\n",
      "280 8.977914 13.5475235 24.990612\n",
      "290 8.954408 13.692369 24.773148\n",
      "new X = [0, 4, 8]\n",
      "Y = tf.Tensor([13.815052 49.55305  85.291046], shape=(3,), dtype=float32)\n"
     ]
    },
    {
     "data": {
      "image/png": "[encoded data removed]",
      "text/plain": [
       "<Figure size 432x288 with 1 Axes>"
      ]
     },
     "metadata": {
      "needs_background": "light"
     },
     "output_type": "display_data"
    }
   ],
   "source": [
    "\n",
    "import tensorflow as tf\n",
    "import numpy as np\n",
    "\n",
    "# Data\n",
    "X = np.array([1, 2, 3, 6, 9],  dtype=float)\n",
    "Y = np.array([20, 30, 50, 70, 90],  dtype=float)\n",
    "\n",
    "# W 초기화\n",
    "# W, b initialize\n",
    "W = tf.Variable(2.9)\n",
    "b = tf.Variable(0.5)\n",
    "\n",
    "learning_rate = 0.01\n",
    "\n",
    "# W, b update\n",
    "for i in range(300):\n",
    "    # Gradient descent\n",
    "    # tf.GradientTape() 안에서 변수의 정보를 tape에 저장\n",
    "    with tf.GradientTape() as tape:\n",
    "        hypothesis = W * X + b\n",
    "        cost = tf.reduce_mean(tf.square(hypothesis - Y))\n",
    "    #gradient 계산    \n",
    "    W_grad, b_grad = tape.gradient(cost, [W, b])  #cost에서의 W, b의 기울기(미분값) 반환\n",
    "    #W, b 갱신\n",
    "    W.assign_sub(learning_rate * W_grad)  #W = W - (learning_rate * W_grad)\n",
    "    b.assign_sub(learning_rate * b_grad)\n",
    "    if i % 10 == 0:\n",
    "#      print(\"{:5}|{:10.4f}|{:10.4f}|{:10.6f}\".format(i, W.numpy(), b.numpy(), cost.numpy()))\n",
    "      print(i, W.numpy(), b.numpy(), cost.numpy())\n",
    "# hypothesis graph \n",
    "      plt.plot(X, hypothesis, 'r-')\n",
    "      plt.plot(X, Y, 'o')\n",
    "      plt.xlabel('X')\n",
    "      plt.ylabel('Y')\n",
    "      plt.xlim(0,10)\n",
    "      plt.ylim(0,100)\n",
    "      plt.title(\"Score Data Plot\")\n",
    "      plt.legend([\"model\", \"train data\"], loc=\"best\")\n",
    "# hypothesis graph (final model) \n",
    "plt.plot(X, hypothesis, 'b-')\n",
    "# 새로운 값 예측\n",
    "nX = [0, 4, 8]\n",
    "Y = W * nX + b\n",
    "print(\"new X =\", nX)\n",
    "print(\"Y =\", Y)\n"
   ]
  },
  {
   "cell_type": "code",
   "execution_count": 40,
   "metadata": {
    "scrolled": true
   },
   "outputs": [
    {
     "name": "stdout",
     "output_type": "stream",
     "text": [
      "w (lr.coef_): [8.59813084]\n",
      "b (lr.intercept_): 15.88785046728971\n"
     ]
    },
    {
     "data": {
      "image/png": "[encoded data removed]",
      "text/plain": [
       "<Figure size 432x288 with 1 Axes>"
      ]
     },
     "metadata": {
      "needs_background": "light"
     },
     "output_type": "display_data"
    },
    {
     "name": "stdout",
     "output_type": "stream",
     "text": [
      "new X = [[0]\n",
      " [4]\n",
      " [8]]\n",
      "Y1= [15.88785047 50.28037383 84.6728972 ]\n",
      "Y2= [15.88785047 50.28037383 84.6728972 ]\n"
     ]
    }
   ],
   "source": [
    "from sklearn.linear_model import LinearRegression\n",
    "\n",
    "\n",
    "X = np.array([1, 2, 3, 6, 9],  dtype=float)\n",
    "Y = np.array([20, 30, 50, 70, 90],  dtype=float)\n",
    "\n",
    "X = X.reshape(-1, 1)\n",
    "lr = LinearRegression().fit(X, Y)  #선형회귀(최소제곱법)로 예측함수 추정\n",
    "\n",
    "w = lr.coef_       #계수\n",
    "b = lr.intercept_  #절편\n",
    "print(\"w (lr.coef_):\", w)\n",
    "print(\"b (lr.intercept_):\",b )\n",
    "\n",
    "\n",
    "line = np.linspace(0, 30, 100).reshape(-1, 1)\n",
    "#plt.figure(figsize=(8, 8))\n",
    "plt.plot(line, lr.predict(line)) #선형회귀로 추정된 선형함수(모델)로 출력값 생성\n",
    "plt.plot(X, Y, 'o', c='blue')    #학습 데이터\n",
    "plt.xlabel('X')\n",
    "plt.ylabel('Y')\n",
    "plt.xlim(0,10)\n",
    "plt.ylim(0,100)\n",
    "plt.title(\"Score Data Plot\")\n",
    "plt.legend([\"model\", \"train data\"], loc=\"best\")\n",
    "plt.grid()\n",
    "plt.show()\n",
    "\n",
    "# 새로운 값 예측\n",
    "\n",
    "nX = np.array([0, 4, 8])\n",
    "nX = nX.reshape(-1, 1)\n",
    "Y1 = lr.predict(nX)\n",
    "Y2 = np.dot(nX,w) +b\n",
    "print(\"new X =\", nX)\n",
    "print(\"Y1=\", Y1)\n",
    "print(\"Y2=\", Y2)"
   ]
  },
  {
   "cell_type": "code",
   "execution_count": null,
   "metadata": {},
   "outputs": [],
   "source": []
  }
 ],
 "metadata": {
  "colab": {
   "collapsed_sections": [],
   "name": "lab-02-1-Simple-Liner-Regression-eager.ipynb",
   "provenance": [],
   "version": "0.3.2"
  },
  "kernelspec": {
   "display_name": "Python 3",
   "language": "python",
   "name": "python3"
  },
  "language_info": {
   "codemirror_mode": {
    "name": "ipython",
    "version": 3
   },
   "file_extension": ".py",
   "mimetype": "text/x-python",
   "name": "python",
   "nbconvert_exporter": "python",
   "pygments_lexer": "ipython3",
   "version": "3.7.1"
  }
 },
 "nbformat": 4,
 "nbformat_minor": 1
}
