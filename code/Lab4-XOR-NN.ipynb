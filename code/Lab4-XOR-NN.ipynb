{
 "cells": [
  {
   "cell_type": "markdown",
   "metadata": {},
   "source": [
    "#  XOR - Neural Network \n",
    "* XOR 문제를  Neural Network을 활용해 풀어보도록 하겠습니다.\n",
    "\n",
    "https://github.com/deeplearningzerotoall/TensorFlow/tree/master/tf_2.x\n",
    "\n",
    "### 기본 Library 선언 및 Tensorflow 버전 확인"
   ]
  },
  {
   "cell_type": "code",
   "execution_count": 14,
   "metadata": {
    "scrolled": true
   },
   "outputs": [
    {
     "name": "stdout",
     "output_type": "stream",
     "text": [
      "2.0.0\n"
     ]
    }
   ],
   "source": [
    "#기본 Library 선언 및 Tensorflow 버전 확인\n",
    "import numpy as np\n",
    "import matplotlib.pyplot as plt\n",
    "import tensorflow as tf\n",
    "\n",
    "print(tf.__version__)"
   ]
  },
  {
   "cell_type": "markdown",
   "metadata": {},
   "source": [
    "### XOR  Data\n",
    "* x_data가 2차원 배열이기에 2차원 공간에 표현하여 x1과 x2를 기준으로 y_data 0과 1로 구분하는 예제\n",
    "* 붉은색원과 푸른색세모로 0과 1을 표시."
   ]
  },
  {
   "cell_type": "code",
   "execution_count": 15,
   "metadata": {
    "scrolled": false
   },
   "outputs": [
    {
     "data": {
      "image/png": "[encoded data removed]",
      "text/plain": [
       "<Figure size 144x144 with 1 Axes>"
      ]
     },
     "metadata": {
      "needs_background": "light"
     },
     "output_type": "display_data"
    }
   ],
   "source": [
    "x_data = [[0, 0],\n",
    "          [0, 1],\n",
    "          [1, 0],\n",
    "          [1, 1]]\n",
    "y_data = [[0],\n",
    "          [1],\n",
    "          [1],\n",
    "          [0]]\n",
    "\n",
    "plt.figure(figsize= (2,2))\n",
    "plt.scatter(x_data[0][0],x_data[0][1], c='red' , marker='o')\n",
    "plt.scatter(x_data[3][0],x_data[3][1], c='red' , marker='o')\n",
    "plt.scatter(x_data[1][0],x_data[1][1], c='blue' , marker='^')\n",
    "plt.scatter(x_data[2][0],x_data[2][1], c='blue' , marker='^')\n",
    "\n",
    "plt.xlabel(\"x1\")\n",
    "plt.ylabel(\"x2\")\n",
    "plt.title (\"XOR data\")\n",
    "plt.show()"
   ]
  },
  {
   "cell_type": "markdown",
   "metadata": {},
   "source": [
    "##  Tensorflow XOR 모델링\n",
    "\n",
    "* Tensorflow data API를 통해 학습시킬 값들을 담는다 (Batch Size는 한번에 학습시킬 Size로 정한다)\n",
    "* features,labels는 실재 학습에 쓰일 Data (연산을 위해 Type를 맞춰준다)"
   ]
  },
  {
   "cell_type": "markdown",
   "metadata": {
    "collapsed": true
   },
   "source": [
    "Neural Network를 통해 XOR해결 \n",
    "* 위의 Data를 3Layer의 Neural Network를 통해 학습시킨 후 모델을 생성합니다.(강의에서 설명한 구조)"
   ]
  },
  {
   "cell_type": "code",
   "execution_count": 16,
   "metadata": {},
   "outputs": [],
   "source": [
    "#Tensorflow data API로 데이터 설정\n",
    "#tf.data.Dataset.from_tensor_slices() : x_data, y_data를 이용하여 텐서플로우 데이터집합 생성\n",
    "#batch() 한번에 학습시킬 크기 \n",
    "\n",
    "dataset = tf.data.Dataset.from_tensor_slices((x_data, y_data)).batch(len(x_data))  \n",
    "\n",
    "#features, label 타입변경\n",
    "def preprocess_data(features, labels):\n",
    "    features = tf.cast(features, tf.float32)\n",
    "    labels = tf.cast(labels, tf.float32)\n",
    "    return features, labels"
   ]
  },
  {
   "cell_type": "code",
   "execution_count": 17,
   "metadata": {},
   "outputs": [],
   "source": [
    "#3-Layer의 Neural Network 구조에 대한  weight, bias 초기값 설정\n",
    "W1 = tf.Variable(tf.random.normal([2, 1]), name='weight1') #W1.shape (2,1)\n",
    "b1 = tf.Variable(tf.random.normal([1]), name='bias1')\n",
    "\n",
    "W2 = tf.Variable(tf.random.normal([2, 1]), name='weight2')\n",
    "b2 = tf.Variable(tf.random.normal([1]), name='bias2')\n",
    "\n",
    "W3 = tf.Variable(tf.random.normal([2, 1]), name='weight3')\n",
    "b3 = tf.Variable(tf.random.normal([1]), name='bias3')"
   ]
  },
  {
   "cell_type": "code",
   "execution_count": 18,
   "metadata": {},
   "outputs": [],
   "source": [
    "#3-layer Neural Network 구조에 대한  출력(hypothesis)\n",
    "def neural_net(features):\n",
    "    layer1 = tf.sigmoid(tf.matmul(features, W1) + b1)\n",
    "    layer2 = tf.sigmoid(tf.matmul(features, W2) + b2)\n",
    "    layer3 = tf.concat([layer1, layer2],-1)\n",
    "    layer3 = tf.reshape(layer3, shape = [-1,2])\n",
    "    hypothesis = tf.sigmoid(tf.matmul(layer3, W3) + b3)\n",
    "    return hypothesis\n",
    "\n",
    "#cost(loss) function (MSE)\n",
    "def loss_fn(hypothesis, labels):\n",
    "    cost = -tf.reduce_mean(labels * tf.math.log(hypothesis) + (1 - labels) * tf.math.log(1 - hypothesis))\n",
    "    return cost\n",
    "\n",
    "#optimization (Gradient decent algorithm)\n",
    "optimizer = tf.compat.v1.train.GradientDescentOptimizer(learning_rate=0.01)\n",
    "\n",
    "# 예측결과와 출력 결과가 같은것의 평균으로 정확도 계산 \n",
    "def accuracy_fn(hypothesis, labels):\n",
    "    predicted = tf.cast(hypothesis > 0.5, dtype=tf.float32)\n",
    "    accuracy = tf.reduce_mean(tf.cast(tf.equal(predicted, labels), dtype=tf.float32))\n",
    "    return accuracy\n",
    "\n",
    "#기울기 계산\n",
    "def grad(hypothesis, features, labels):\n",
    "    with tf.GradientTape() as tape:\n",
    "        loss_value = loss_fn(neural_net(features),labels)\n",
    "    return tape.gradient(loss_value, [W1, W2, W3, b1, b2, b3])"
   ]
  },
  {
   "cell_type": "code",
   "execution_count": 22,
   "metadata": {
    "scrolled": true
   },
   "outputs": [
    {
     "name": "stdout",
     "output_type": "stream",
     "text": [
      "Iter: 0, Loss: 0.6381\n",
      "Iter: 5000, Loss: 0.5901\n",
      "Iter: 10000, Loss: 0.5479\n",
      "Iter: 15000, Loss: 0.4906\n",
      "Iter: 20000, Loss: 0.3686\n",
      "Iter: 25000, Loss: 0.2356\n",
      "Iter: 30000, Loss: 0.1590\n",
      "Iter: 35000, Loss: 0.1168\n",
      "Iter: 40000, Loss: 0.0912\n",
      "Iter: 45000, Loss: 0.0743\n",
      "Testset Accuracy: 1.0000\n"
     ]
    }
   ],
   "source": [
    "#반복횟수 설정\n",
    "EPOCHS = 50000\n",
    "\n",
    "train_loss_list = []\n",
    "for step in range(EPOCHS):\n",
    "    for features, labels  in iter(dataset):  \n",
    "        features, labels = preprocess_data(features, labels) #타입변경\n",
    "        grads = grad(neural_net(features), features, labels) #기울기 계산\n",
    "        optimizer.apply_gradients(grads_and_vars=zip(grads,[W1, W2, W3, b1, b2, b3])) #기울기와 계수를 최적화 알고리즘에 적용\n",
    "        loss = loss_fn(neural_net(features),labels) # 손실함수\n",
    "        train_loss_list.append(loss)                # 학습 과정 기록\n",
    "        if step % 5000 == 0:                        # 500번에 한번씩 \n",
    "            print(\"Iter: {}, Loss: {:.4f}\".format(step, loss))\n",
    "\n",
    "x_data, y_data = preprocess_data(x_data, y_data)\n",
    "test_acc = accuracy_fn(neural_net(x_data),y_data)\n",
    "print(\"Testset Accuracy: {:.4f}\".format(test_acc))"
   ]
  },
  {
   "cell_type": "code",
   "execution_count": 25,
   "metadata": {},
   "outputs": [
    {
     "data": {
      "image/png": "[encoded data removed]",
      "text/plain": [
       "<Figure size 576x360 with 1 Axes>"
      ]
     },
     "metadata": {
      "needs_background": "light"
     },
     "output_type": "display_data"
    }
   ],
   "source": [
    "# 그래프 그리기\n",
    "import matplotlib.pyplot as plt\n",
    "\n",
    "plt.figure(figsize=(8, 5))\n",
    "markers = {'train': 'o', 'test': 's'}\n",
    "\n",
    "x_loss = np.arange(len(train_loss_list))\n",
    "plt.plot(x_loss, train_loss_list)\n",
    "plt.xlabel(\"iteration\")\n",
    "plt.ylabel(\"loss\")\n",
    "plt.title(\"XOR loss graph\")\n",
    "plt.show()"
   ]
  },
  {
   "cell_type": "code",
   "execution_count": null,
   "metadata": {},
   "outputs": [],
   "source": []
  }
 ],
 "metadata": {
  "kernelspec": {
   "display_name": "Python 3",
   "language": "python",
   "name": "python3"
  },
  "language_info": {
   "codemirror_mode": {
    "name": "ipython",
    "version": 3
   },
   "file_extension": ".py",
   "mimetype": "text/x-python",
   "name": "python",
   "nbconvert_exporter": "python",
   "pygments_lexer": "ipython3",
   "version": "3.7.1"
  }
 },
 "nbformat": 4,
 "nbformat_minor": 2
}
